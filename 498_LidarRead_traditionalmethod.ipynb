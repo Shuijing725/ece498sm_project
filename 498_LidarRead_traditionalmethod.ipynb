{
 "cells": [
  {
   "cell_type": "code",
   "execution_count": 2,
   "metadata": {},
   "outputs": [],
   "source": [
    "import struct\n",
    "import datetime as dt\n",
    "import glob\n",
    "import os\n",
    "from collections import namedtuple\n",
    "import matplotlib.image as mpimg\n",
    "import cv2\n",
    "\n",
    "import numpy as np\n",
    "# import pykitti.utils as utils"
   ]
  },
  {
   "cell_type": "code",
   "execution_count": 3,
   "metadata": {},
   "outputs": [],
   "source": [
    "# fileName = '/Users/GF/Downloads/data_road_velodyne/testing/velodyne/um_000000.bin'\n",
    "# with open(fileName, mode='rb') as file: # b is important -> binary\n",
    "#     fileContent = file.read()\n",
    "# struct.unpack(\"iiiii\", fileContent[:20])"
   ]
  },
  {
   "cell_type": "code",
   "execution_count": 36,
   "metadata": {},
   "outputs": [
    {
     "name": "stdout",
     "output_type": "stream",
     "text": [
      "...\n"
     ]
    }
   ],
   "source": [
    "def get_velo_scans(velo_file):\n",
    "    \"\"\"read velodyne [x,y,z,reflectance] scan data from binary files.\"\"\"\n",
    "    \"\"\"parse velodyne binary files into arrays.\"\"\"\n",
    "    scan = np.fromfile(velo_file, dtype='float32')\n",
    "    return scan.reshape((-1, 4))\n",
    "        \n",
    "# def velo(data_path):\n",
    "#         \"\"\"Generator to read velodyne [x,y,z,reflectance] scan data from binary files.\"\"\"\n",
    "#         # Find all the Velodyne files\n",
    "#         velo_path = os.path.join(\n",
    "#             data_path, 'velodyne_points', 'data', '*.bin')\n",
    "#         velo_files = sorted(glob.glob(velo_path))\n",
    "\n",
    "#         # Subselect the chosen range of frames, if any\n",
    "# #         if self.frames is not None:\n",
    "# #             velo_files = [velo_files[i] for i in self.frames]\n",
    "\n",
    "#         # Return a vgenerator yielding Velodyne scans.\n",
    "#         # Each scan is a Nx4 array of [x,y,z,reflectance]\n",
    "#         return get_velo_scans(velo_files)\n",
    "def sobel(img, thresh_min=0, thresh_max=255): # use the threshold values you found to replace 0 and 255\n",
    "    #1. convert the image to gray scale\n",
    "    #2. Gaussian blur the image\n",
    "    #3. Use Sobel to find derievatives for both X and Y Axis\n",
    "    #4. Use addweight to combine the results\n",
    "    #5. Convert each pixel to unint8, then apply threshold to get binary image\n",
    "    ## TODO\n",
    "    img_gray = cv2.cvtColor(img, cv2.COLOR_BGR2GRAY)\n",
    "    img_blur = cv2.GaussianBlur(img_gray, (5, 5), 0)\n",
    "    #name your result to be sobelX and sobelY\n",
    "    sobelX = cv2.Sobel(img_blur,cv2.CV_8U,1,0,3)\n",
    "    sobelY = cv2.Sobel(img_blur,cv2.CV_8U,0,1,3)\n",
    "    \n",
    "    ####\n",
    "    \n",
    "    combined = cv2.addWeighted(sobelX, 0.9, sobelY, 0.1, 0)\n",
    "    #scaled_lap = np.uint8(255*combined/np.max(combined)) #for some reason, scaled_lap was only containing 0s and 2s\n",
    "    binary_output = np.zeros_like(combined)\n",
    "    binary_output[(combined >= thresh_min) & (combined <= thresh_max)] = 1\n",
    "    #for i in range(0,len(scaled_lap)):\n",
    "    #    for j in range(0,len(scaled_lap[i])):\n",
    "    #        print(scaled_lap[i][j])\n",
    "\n",
    "    return binary_output\n",
    "print ('...')"
   ]
  },
  {
   "cell_type": "code",
   "execution_count": 64,
   "metadata": {},
   "outputs": [
    {
     "data": {
      "text/plain": [
       "True"
      ]
     },
     "execution_count": 64,
     "metadata": {},
     "output_type": "execute_result"
    }
   ],
   "source": [
    "#filename = '/Users/GF/Downloads/data_road_velodyne-2/training/velodyne/um_000003.bin'\n",
    "filename = '/Users/Mike/Desktop/data_road_velodyne/training/velodyne/um_000022.bin'\n",
    "camera_filename = '/Users/Mike/Desktop/data_road_gray/training/image_0/um_000022.png'\n",
    "cam_img = np.fromfile(camera_filename, dtype='float32') #cv2.imread(camera_filename)\n",
    "arr = get_velo_scans(filename)\n",
    "new_arr = np.full((375,1242,4),(0,0,0,255))\n",
    "for point in arr:\n",
    "    if(point[3] > 0 and point[0] > 0 and point[0] <= 37.4 and abs(point[1]) < 9.95 and point[2] < 0):\n",
    "        x_coord = int(round(point[1]*20)+200)\n",
    "        y_coord = int(round(point[0]*10))\n",
    "        new_arr[374-y_coord][820-x_coord] = (0,int(point[3]*255),0,255)\n",
    "cv2.imwrite(\"out22.png\", new_arr)\n",
    "img = np.float32(new_arr)\n",
    "\n",
    "#thresh_min1 = 0\n",
    "#thresh_max1 = 255\n",
    "#bw_img = sobel(img, thresh_min1, thresh_max1)\n",
    "#cv2.imwrite(\"out3_bw.png\", bw_img)\n",
    "\n",
    "#warp perspctive\n",
    "x3, y3 = 655, 299\n",
    "x1, y1 = 657, 243\n",
    "x4, y4 = 518, 300\n",
    "x2, y2 = 516, 248\n",
    "\n",
    "#400,400\n",
    "#1242,375 .9375\n",
    "\n",
    "dst = np.float32([(708,260), #109 #279\n",
    "                  (343,263), #150 101\n",
    "                  (788,332), #284\n",
    "                  (165,325)])   \n",
    "src = np.float32([(x1,y1),(x2,y2),(x3,y3),(x4,y4)])\n",
    "\n",
    "M = cv2.getPerspectiveTransform(src,dst)\n",
    "Minv = cv2.getPerspectiveTransform(dst,src)\n",
    "img = np.float32(new_arr)\n",
    "warpedImg = cv2.warpPerspective(img, M, (1242,375), flags=cv2.INTER_LINEAR)\n",
    "cam_img = np.float32(cam_img)\n",
    "#newImg = cv2.addWeighted(cam_img, 1, warpedImg, .5, 0)\n",
    "#for i in range(1242):\n",
    "#    for j in range(375):\n",
    "#        if(warpedImg[j][i][1] > 0):\n",
    "#            cam_img[j][i] = warpedImg[j][i];\n",
    "cv2.imwrite(\"out22_w.png\", warpedImg)\n",
    "#cv2.imwrite(\"out3_comb.png\", camImg)\n",
    "        \n",
    "# scan = np.fromfile(filename, dtype='uint8')\n",
    "# cv2.imwrite('scan.png', scan[:640000].reshape(64,10000))"
   ]
  },
  {
   "cell_type": "code",
   "execution_count": null,
   "metadata": {
    "collapsed": true
   },
   "outputs": [],
   "source": []
  },
  {
   "cell_type": "code",
   "execution_count": null,
   "metadata": {
    "collapsed": true
   },
   "outputs": [],
   "source": []
  },
  {
   "cell_type": "code",
   "execution_count": null,
   "metadata": {
    "collapsed": true
   },
   "outputs": [],
   "source": []
  }
 ],
 "metadata": {
  "kernelspec": {
   "display_name": "Python 3",
   "language": "python",
   "name": "python3"
  },
  "language_info": {
   "codemirror_mode": {
    "name": "ipython",
    "version": 3
   },
   "file_extension": ".py",
   "mimetype": "text/x-python",
   "name": "python",
   "nbconvert_exporter": "python",
   "pygments_lexer": "ipython3",
   "version": "3.7.0"
  }
 },
 "nbformat": 4,
 "nbformat_minor": 2
}
