{
 "cells": [
  {
   "cell_type": "code",
   "execution_count": 19,
   "metadata": {
    "collapsed": true
   },
   "outputs": [],
   "source": [
    "import struct\n",
    "import datetime as dt\n",
    "import glob\n",
    "import os\n",
    "from collections import namedtuple\n",
    "import matplotlib.image as mpimg\n",
    "import cv2\n",
    "\n",
    "import numpy as np\n",
    "# import pykitti.utils as utils"
   ]
  },
  {
   "cell_type": "code",
   "execution_count": 26,
   "metadata": {
    "collapsed": true
   },
   "outputs": [],
   "source": [
    "# fileName = '/Users/GF/Downloads/data_road_velodyne/testing/velodyne/um_000000.bin'\n",
    "# with open(fileName, mode='rb') as file: # b is important -> binary\n",
    "#     fileContent = file.read()\n",
    "# struct.unpack(\"iiiii\", fileContent[:20])"
   ]
  },
  {
   "cell_type": "code",
   "execution_count": 31,
   "metadata": {
    "collapsed": true
   },
   "outputs": [],
   "source": [
    "def get_velo_scans(velo_file):\n",
    "    \"\"\"read velodyne [x,y,z,reflectance] scan data from binary files.\"\"\"\n",
    "    \"\"\"parse velodyne binary files into arrays.\"\"\"\n",
    "    scan = np.fromfile(velo_file, dtype='float32')\n",
    "    return scan.reshape((-1, 4))\n",
    "        \n",
    "# def velo(data_path):\n",
    "#         \"\"\"Generator to read velodyne [x,y,z,reflectance] scan data from binary files.\"\"\"\n",
    "#         # Find all the Velodyne files\n",
    "#         velo_path = os.path.join(\n",
    "#             data_path, 'velodyne_points', 'data', '*.bin')\n",
    "#         velo_files = sorted(glob.glob(velo_path))\n",
    "\n",
    "#         # Subselect the chosen range of frames, if any\n",
    "# #         if self.frames is not None:\n",
    "# #             velo_files = [velo_files[i] for i in self.frames]\n",
    "\n",
    "#         # Return a vgenerator yielding Velodyne scans.\n",
    "#         # Each scan is a Nx4 array of [x,y,z,reflectance]\n",
    "#         return get_velo_scans(velo_files)"
   ]
  },
  {
   "cell_type": "code",
   "execution_count": 39,
   "metadata": {},
   "outputs": [
    {
     "data": {
      "text/plain": [
       "array([[ 32.00400162,  12.56200027,   1.37199998,   0.25      ],\n",
       "       [ 32.04999924,  12.6960001 ,   1.375     ,   0.        ],\n",
       "       [ 31.87000084,  12.68299961,   1.36899996,   0.        ],\n",
       "       ..., \n",
       "       [  3.71799994,  -1.39999998,  -1.73699999,   0.40000001],\n",
       "       [  3.69400001,  -1.37699997,  -1.722     ,   0.        ],\n",
       "       [  3.76399994,  -1.38999999,  -1.755     ,   0.        ]], dtype=float32)"
      ]
     },
     "execution_count": 39,
     "metadata": {},
     "output_type": "execute_result"
    }
   ],
   "source": [
    "filename = '/Users/GF/Downloads/data_road_velodyne-2/training/velodyne/um_000003.bin'\n",
    "get_velo_scans(filename)\n",
    "\n",
    "# scan = np.fromfile(filename, dtype='uint8')\n",
    "# cv2.imwrite('scan.png', scan[:640000].reshape(64,10000))"
   ]
  },
  {
   "cell_type": "code",
   "execution_count": null,
   "metadata": {
    "collapsed": true
   },
   "outputs": [],
   "source": []
  },
  {
   "cell_type": "code",
   "execution_count": null,
   "metadata": {
    "collapsed": true
   },
   "outputs": [],
   "source": []
  },
  {
   "cell_type": "code",
   "execution_count": null,
   "metadata": {
    "collapsed": true
   },
   "outputs": [],
   "source": []
  }
 ],
 "metadata": {
  "kernelspec": {
   "display_name": "Python 3",
   "language": "python",
   "name": "python3"
  },
  "language_info": {
   "codemirror_mode": {
    "name": "ipython",
    "version": 3
   },
   "file_extension": ".py",
   "mimetype": "text/x-python",
   "name": "python",
   "nbconvert_exporter": "python",
   "pygments_lexer": "ipython3",
   "version": "3.6.4"
  }
 },
 "nbformat": 4,
 "nbformat_minor": 2
}
