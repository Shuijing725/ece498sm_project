{
 "cells": [
  {
   "cell_type": "code",
   "execution_count": 1,
   "metadata": {},
   "outputs": [],
   "source": [
    "import struct\n",
    "import datetime as dt\n",
    "import glob\n",
    "import os\n",
    "from collections import namedtuple\n",
    "import matplotlib.image as mpimg\n",
    "import cv2\n",
    "\n",
    "import numpy as np\n",
    "# import pykitti.utils as utils"
   ]
  },
  {
   "cell_type": "code",
   "execution_count": 2,
   "metadata": {},
   "outputs": [],
   "source": [
    "# fileName = '/Users/GF/Downloads/data_road_velodyne/testing/velodyne/um_000000.bin'\n",
    "# with open(fileName, mode='rb') as file: # b is important -> binary\n",
    "#     fileContent = file.read()\n",
    "# struct.unpack(\"iiiii\", fileContent[:20])"
   ]
  },
  {
   "cell_type": "code",
   "execution_count": 3,
   "metadata": {},
   "outputs": [],
   "source": [
    "def get_velo_scans(velo_file):\n",
    "    \"\"\"read velodyne [x,y,z,reflectance] scan data from binary files.\"\"\"\n",
    "    \"\"\"parse velodyne binary files into arrays.\"\"\"\n",
    "    scan = np.fromfile(velo_file, dtype='float32')\n",
    "    return scan.reshape((-1, 4))\n",
    "        \n",
    "# def velo(data_path):\n",
    "#         \"\"\"Generator to read velodyne [x,y,z,reflectance] scan data from binary files.\"\"\"\n",
    "#         # Find all the Velodyne files\n",
    "#         velo_path = os.path.join(\n",
    "#             data_path, 'velodyne_points', 'data', '*.bin')\n",
    "#         velo_files = sorted(glob.glob(velo_path))\n",
    "\n",
    "#         # Subselect the chosen range of frames, if any\n",
    "# #         if self.frames is not None:\n",
    "# #             velo_files = [velo_files[i] for i in self.frames]\n",
    "\n",
    "#         # Return a vgenerator yielding Velodyne scans.\n",
    "#         # Each scan is a Nx4 array of [x,y,z,reflectance]\n",
    "#         return get_velo_scans(velo_files)"
   ]
  },
  {
   "cell_type": "code",
   "execution_count": 41,
   "metadata": {},
   "outputs": [
    {
     "data": {
      "text/plain": [
       "True"
      ]
     },
     "execution_count": 41,
     "metadata": {},
     "output_type": "execute_result"
    }
   ],
   "source": [
    "#filename = '/Users/GF/Downloads/data_road_velodyne-2/training/velodyne/um_000003.bin'\n",
    "filename = '/Users/Mike/Desktop/data_road_velodyne/training/velodyne/um_000002.bin'\n",
    "arr = get_velo_scans(filename)\n",
    "new_arr = np.full((400,400,4),(0,0,0,255))\n",
    "for point in arr:\n",
    "    if(point[3] > 0 and point[0] > 0 and point[0] <= 19.95 and abs(point[1]) < 9.95 and point[2] < 0):\n",
    "        x_coord = int(round(point[1]*20)+200)\n",
    "        y_coord = int(round(point[0]*20))\n",
    "        new_arr[399-y_coord][x_coord] = (0,point[3]*255,0,255)\n",
    "cv2.imwrite(\"out.png\", new_arr)\n",
    "        \n",
    "# scan = np.fromfile(filename, dtype='uint8')\n",
    "# cv2.imwrite('scan.png', scan[:640000].reshape(64,10000))"
   ]
  },
  {
   "cell_type": "code",
   "execution_count": null,
   "metadata": {
    "collapsed": true
   },
   "outputs": [],
   "source": []
  },
  {
   "cell_type": "code",
   "execution_count": null,
   "metadata": {
    "collapsed": true
   },
   "outputs": [],
   "source": []
  },
  {
   "cell_type": "code",
   "execution_count": null,
   "metadata": {
    "collapsed": true
   },
   "outputs": [],
   "source": []
  }
 ],
 "metadata": {
  "kernelspec": {
   "display_name": "Python 3",
   "language": "python",
   "name": "python3"
  },
  "language_info": {
   "codemirror_mode": {
    "name": "ipython",
    "version": 3
   },
   "file_extension": ".py",
   "mimetype": "text/x-python",
   "name": "python",
   "nbconvert_exporter": "python",
   "pygments_lexer": "ipython3",
   "version": "3.7.0"
  }
 },
 "nbformat": 4,
 "nbformat_minor": 2
}
